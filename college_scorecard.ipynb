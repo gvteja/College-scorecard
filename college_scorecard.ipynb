{
 "cells": [
  {
   "cell_type": "code",
   "execution_count": 203,
   "metadata": {
    "collapsed": true
   },
   "outputs": [],
   "source": [
    "%matplotlib inline\n",
    "import sys\n",
    "import pandas as pd\n",
    "import numpy as np\n",
    "import matplotlib.pyplot as plt\n",
    "import scipy.stats as ss\n",
    "import re\n",
    "\n",
    "from sklearn.cross_validation import train_test_split\n",
    "\n",
    "from sklearn.dummy import DummyRegressor\n",
    "from sklearn.linear_model import LinearRegression, Ridge, Lasso\n",
    "\n",
    "from sklearn.grid_search import GridSearchCV\n",
    "\n",
    "from sklearn.metrics import mean_squared_error\n",
    "\n",
    "import statsmodels.formula.api as smf"
   ]
  },
  {
   "cell_type": "code",
   "execution_count": 182,
   "metadata": {
    "collapsed": false
   },
   "outputs": [],
   "source": [
    "df = pd.read_csv('MERGED2011_PP.csv', header=0)"
   ]
  },
  {
   "cell_type": "code",
   "execution_count": 183,
   "metadata": {
    "collapsed": false
   },
   "outputs": [],
   "source": [
    "dd = pd.read_csv('CollegeScorecardDataDictionary-09-12-2015.csv', header=0)"
   ]
  },
  {
   "cell_type": "code",
   "execution_count": 185,
   "metadata": {
    "collapsed": false
   },
   "outputs": [
    {
     "data": {
      "text/plain": [
       "NSLDS       1179\n",
       "IPEDS        433\n",
       "Treasury     105\n",
       "FSA            3\n",
       "dtype: int64"
      ]
     },
     "execution_count": 185,
     "metadata": {},
     "output_type": "execute_result"
    }
   ],
   "source": [
    "dd['SOURCE'].value_counts()"
   ]
  },
  {
   "cell_type": "code",
   "execution_count": 186,
   "metadata": {
    "collapsed": false
   },
   "outputs": [
    {
     "name": "stdout",
     "output_type": "stream",
     "text": [
      "73\n"
     ]
    }
   ],
   "source": [
    "earning_cols = dd[dd['dev-category'] == 'earnings']['VARIABLE NAME']\n",
    "print len(earning_cols)"
   ]
  },
  {
   "cell_type": "code",
   "execution_count": 187,
   "metadata": {
    "collapsed": false
   },
   "outputs": [
    {
     "name": "stdout",
     "output_type": "stream",
     "text": [
      "130\n"
     ]
    }
   ],
   "source": [
    "repayment_cols = dd[dd['dev-category'] == 'repayment']['VARIABLE NAME']\n",
    "print len(repayment_cols)"
   ]
  },
  {
   "cell_type": "code",
   "execution_count": 188,
   "metadata": {
    "collapsed": false
   },
   "outputs": [
    {
     "name": "stdout",
     "output_type": "stream",
     "text": [
      "1348\n"
     ]
    }
   ],
   "source": [
    "removed_cols = ['\\xef\\xbb\\xbfUNITID', 'OPEID','opeid6', 'ZIP', 'INSTNM', 'CITY', 'sch_deg', 'st_fips']\n",
    "\n",
    "total_len = df.shape[0]\n",
    "\n",
    "for col in df.columns:\n",
    "    \n",
    "    bad_count = sum(df[col].isnull())\n",
    "    if df[col].dtype == 'object':\n",
    "        bad_count += df.loc[df[col] == 'PrivacySuppressed'].shape[0]\n",
    "        \n",
    "    if bad_count > total_len * (1 / 4.0):\n",
    "        removed_cols.append(col)\n",
    "    \n",
    "print len(removed_cols)"
   ]
  },
  {
   "cell_type": "code",
   "execution_count": 189,
   "metadata": {
    "collapsed": false
   },
   "outputs": [
    {
     "name": "stdout",
     "output_type": "stream",
     "text": [
      "1393\n"
     ]
    }
   ],
   "source": [
    "removed_cols_set = set(removed_cols)\n",
    "removed_cols_set = removed_cols_set.union(list(earning_cols.values))\n",
    "removed_cols_set = removed_cols_set.union(list(repayment_cols.values))\n",
    "\n",
    "print len(removed_cols_set)"
   ]
  },
  {
   "cell_type": "code",
   "execution_count": 190,
   "metadata": {
    "collapsed": false
   },
   "outputs": [
    {
     "name": "stdout",
     "output_type": "stream",
     "text": [
      "1390\n"
     ]
    }
   ],
   "source": [
    "cols_to_include = {'ADM_RATE', 'mn_earn_wne_p10','md_earn_wne_p10'}\n",
    "removed_cols_set = removed_cols_set - cols_to_include\n",
    "print len(removed_cols_set)"
   ]
  },
  {
   "cell_type": "code",
   "execution_count": 191,
   "metadata": {
    "collapsed": false
   },
   "outputs": [
    {
     "name": "stdout",
     "output_type": "stream",
     "text": [
      "(7675, 339)\n"
     ]
    }
   ],
   "source": [
    "removed_cols = list(removed_cols_set)\n",
    "df.drop(removed_cols, axis=1, inplace=True)\n",
    "print df.shape"
   ]
  },
  {
   "cell_type": "code",
   "execution_count": 192,
   "metadata": {
    "collapsed": false
   },
   "outputs": [
    {
     "name": "stdout",
     "output_type": "stream",
     "text": [
      "(2136, 339)\n"
     ]
    }
   ],
   "source": [
    "df.dropna(inplace=True)\n",
    "print df.shape"
   ]
  },
  {
   "cell_type": "code",
   "execution_count": 193,
   "metadata": {
    "collapsed": false
   },
   "outputs": [
    {
     "name": "stdout",
     "output_type": "stream",
     "text": [
      "(854, 339)\n"
     ]
    }
   ],
   "source": [
    "def is_privacy_surpressed(row):\n",
    "    for col, value in row.iteritems():\n",
    "        if value == 'PrivacySuppressed':\n",
    "            return True\n",
    "        \n",
    "    return False\n",
    "    \n",
    "privacy_surpressed = df.apply(is_privacy_surpressed, axis=1)\n",
    "df = df[~privacy_surpressed]\n",
    "print df.shape"
   ]
  },
  {
   "cell_type": "code",
   "execution_count": 194,
   "metadata": {
    "collapsed": false
   },
   "outputs": [
    {
     "name": "stdout",
     "output_type": "stream",
     "text": [
      "24\n"
     ]
    },
    {
     "data": {
      "text/plain": [
       "{'AANAPII',\n",
       " 'ANNHI',\n",
       " 'CCBASIC',\n",
       " 'CCSIZSET',\n",
       " 'CCUGPROF',\n",
       " 'CONTROL',\n",
       " 'CURROPER',\n",
       " 'DISTANCEONLY',\n",
       " 'HBCU',\n",
       " 'HIGHDEG',\n",
       " 'HSI',\n",
       " 'LOCALE',\n",
       " 'MENONLY',\n",
       " 'NANTI',\n",
       " 'PBI',\n",
       " 'PREDDEG',\n",
       " 'RELAFFIL',\n",
       " 'STABBR',\n",
       " 'TRIBAL',\n",
       " 'WOMENONLY',\n",
       " 'locale2',\n",
       " 'main',\n",
       " 'region',\n",
       " 'st_fips'}"
      ]
     },
     "execution_count": 194,
     "metadata": {},
     "output_type": "execute_result"
    }
   ],
   "source": [
    "previous_var = None\n",
    "cat_vars = {'STABBR'}\n",
    "for index, row in dd.iterrows():\n",
    "    if (type(row['NAME OF DATA ELEMENT']) == float) and np.isnan(row['NAME OF DATA ELEMENT']):\n",
    "        cat_vars.add(previous_var)\n",
    "    else:\n",
    "        previous_var = row['VARIABLE NAME']\n",
    "\n",
    "print len(cat_vars)\n",
    "cat_vars"
   ]
  },
  {
   "cell_type": "code",
   "execution_count": 195,
   "metadata": {
    "collapsed": false
   },
   "outputs": [
    {
     "name": "stdout",
     "output_type": "stream",
     "text": [
      "CONTROL\n",
      "STABBR\n",
      "DISTANCEONLY\n",
      "PREDDEG\n",
      "HIGHDEG\n",
      "region\n",
      "CURROPER\n",
      "main\n"
     ]
    }
   ],
   "source": [
    "for col in cat_vars.intersection(set(df.columns)):\n",
    "    print col"
   ]
  },
  {
   "cell_type": "code",
   "execution_count": 196,
   "metadata": {
    "collapsed": false
   },
   "outputs": [
    {
     "name": "stdout",
     "output_type": "stream",
     "text": [
      "(854, 408)\n"
     ]
    }
   ],
   "source": [
    "for col in cat_vars.intersection(set(df.columns)):\n",
    "    dummies = pd.get_dummies(df[col], prefix=col)\n",
    "    df = pd.concat([df, dummies], axis=1)\n",
    "    df.drop(col, inplace=True, axis=1)\n",
    "    \n",
    "print df.shape"
   ]
  },
  {
   "cell_type": "code",
   "execution_count": 270,
   "metadata": {
    "collapsed": false
   },
   "outputs": [
    {
     "name": "stdout",
     "output_type": "stream",
     "text": [
      "(854, 402)\n"
     ]
    }
   ],
   "source": [
    "df_numeric = df.copy().convert_objects(convert_numeric=True)\n",
    "df_numeric.drop(df_numeric.std()[df_numeric.std() == 0].index.values, axis=1, inplace=True)\n",
    "\n",
    "df_y1 = df_numeric['mn_earn_wne_p10']\n",
    "df_y2 = df_numeric['md_earn_wne_p10']\n",
    "\n",
    "Y1 = df_y1.values\n",
    "Y2 = df_y2.values\n",
    "\n",
    "df_x = df_numeric.drop(['mn_earn_wne_p10', 'md_earn_wne_p10'], axis=1)\n",
    "\n",
    "X = ss.zscore(df_x)\n",
    "print X.shape"
   ]
  },
  {
   "cell_type": "code",
   "execution_count": 272,
   "metadata": {
    "collapsed": false
   },
   "outputs": [],
   "source": [
    "X_train, X_test, Y_train, Y_test = train_test_split(X, Y2, test_size=0.3, random_state=42)\n",
    "df_xtrain, df_xtest, df_ytrain, df_ytest = train_test_split(df_x, df_y2, test_size=0.3, random_state=42)"
   ]
  },
  {
   "cell_type": "code",
   "execution_count": 273,
   "metadata": {
    "collapsed": false
   },
   "outputs": [
    {
     "name": "stdout",
     "output_type": "stream",
     "text": [
      "53181833.606\n"
     ]
    }
   ],
   "source": [
    "vanilla_lr = LinearRegression()\n",
    "vanilla_lr = vanilla_lr.fit(X_train, Y_train)\n",
    "Y_pred = vanilla_lr.predict(X_test)\n",
    "print mean_squared_error(Y_test, Y_pred)"
   ]
  },
  {
   "cell_type": "code",
   "execution_count": 274,
   "metadata": {
    "collapsed": false
   },
   "outputs": [
    {
     "name": "stdout",
     "output_type": "stream",
     "text": [
      "15759644.2889\n"
     ]
    }
   ],
   "source": [
    "gs_params = {'alpha':[2**i for i in range(-10,20)]}\n",
    "gc = GridSearchCV(estimator=Ridge(), param_grid=gs_params)\n",
    "ridge_model = gc.fit(X_train, Y_train)\n",
    "Y_pred = ridge_model.predict(X_test)\n",
    "print mean_squared_error(Y_test, Y_pred)"
   ]
  },
  {
   "cell_type": "code",
   "execution_count": 275,
   "metadata": {
    "collapsed": false
   },
   "outputs": [
    {
     "name": "stdout",
     "output_type": "stream",
     "text": [
      "15461008.1617\n"
     ]
    }
   ],
   "source": [
    "gs_params = {'alpha':[2**i for i in range(-10,20)]}\n",
    "gc = GridSearchCV(estimator=Lasso(), param_grid=gs_params)\n",
    "lasso_model = gc.fit(X_train, Y_train)\n",
    "Y_pred = lasso_model.predict(X_test)\n",
    "print mean_squared_error(Y_test, Y_pred)"
   ]
  },
  {
   "cell_type": "code",
   "execution_count": 287,
   "metadata": {
    "collapsed": false
   },
   "outputs": [
    {
     "name": "stdout",
     "output_type": "stream",
     "text": [
      "\n"
     ]
    }
   ],
   "source": [
    "def forward_selection(df_x, df_y, k=None):\n",
    "\n",
    "    if not k:\n",
    "        k = len(df_x.columns)\n",
    "    \n",
    "    remaining = set(df_x.columns)\n",
    "    selected = []\n",
    "\n",
    "    while remaining and len(selected) <= k:\n",
    "        scores = []\n",
    "        for candidate in remaining:\n",
    "            X = df_x[selected + [candidate]]\n",
    "            vanilla_lr = LinearRegression()\n",
    "            vanilla_lr = vanilla_lr.fit(X, df_y)\n",
    "            Y_pred = vanilla_lr.predict(X)\n",
    "            score = mean_squared_error(df_y, Y_pred)\n",
    "            scores.append((score, candidate))\n",
    "        \n",
    "        score, best_candidate = min(scores)\n",
    "        print len(selected), score, best_candidate\n",
    "        \n",
    "        remaining.remove(best_candidate)\n",
    "        selected.append(best_candidate)\n",
    "            \n",
    "    return selected\n",
    "\n"
   ]
  },
  {
   "cell_type": "code",
   "execution_count": null,
   "metadata": {
    "collapsed": false
   },
   "outputs": [
    {
     "name": "stdout",
     "output_type": "stream",
     "text": [
      "0 40410239.8138 DEP_INC_AVG\n",
      "1 31131151.6186 MD_INC_DEBT_N\n",
      "2 26865511.8583 UGDS_ASIAN\n",
      "3 25127454.9216 WDRAW_DEBT_MDN\n",
      "4 24007181.4195 PAR_ED_PCT_MS\n",
      "5 22823994.9565 HIGHDEG_4\n",
      "6 21945246.5451 PPTUG_EF\n",
      "7 21092374.1513 PCIP14\n",
      "8 20262361.6394 APPL_SCH_PCT_GE4\n",
      "9 19575046.8862 PCIP49\n",
      "10 18945107.4303 IND_INC_AVG\n",
      "0 40410239.8138 DEP_INC_AVG\n",
      "1 31131151.6186 MD_INC_DEBT_N\n",
      "2 26865511.8583 UGDS_ASIAN\n",
      "3 25127454.9216 WDRAW_DEBT_MDN\n",
      "4 24007181.4195 PAR_ED_PCT_MS\n",
      "5 22823994.9565 HIGHDEG_4\n",
      "6 21945246.5451 PPTUG_EF\n",
      "7 21092374.1513 PCIP14\n",
      "8"
     ]
    }
   ],
   "source": [
    "selected = []\n",
    "for i in range(1, 21):\n",
    "    k = 10 * i\n",
    "    fw_selected = forward_selection(df_xtrain, df_ytrain, k)\n",
    "    selected.append((k, fw_selected))"
   ]
  },
  {
   "cell_type": "code",
   "execution_count": null,
   "metadata": {
    "collapsed": true
   },
   "outputs": [],
   "source": []
  },
  {
   "cell_type": "code",
   "execution_count": null,
   "metadata": {
    "collapsed": true
   },
   "outputs": [],
   "source": []
  },
  {
   "cell_type": "code",
   "execution_count": 180,
   "metadata": {
    "collapsed": false
   },
   "outputs": [
    {
     "data": {
      "text/plain": [
       "[]"
      ]
     },
     "execution_count": 180,
     "metadata": {},
     "output_type": "execute_result"
    }
   ],
   "source": [
    "[col for col in df.columns if 'earn'.lower() in col.lower()]"
   ]
  },
  {
   "cell_type": "code",
   "execution_count": 118,
   "metadata": {
    "collapsed": false
   },
   "outputs": [
    {
     "data": {
      "text/plain": [
       "True"
      ]
     },
     "execution_count": 118,
     "metadata": {},
     "output_type": "execute_result"
    }
   ],
   "source": [
    "any(['UNITID' in col for col in df.columns])"
   ]
  },
  {
   "cell_type": "code",
   "execution_count": 28,
   "metadata": {
    "collapsed": false
   },
   "outputs": [
    {
     "name": "stdout",
     "output_type": "stream",
     "text": [
      "46\n",
      "count_nwne_p6\n",
      "count_nwne_p7\n",
      "count_nwne_p8\n",
      "count_nwne_p9\n",
      "count_wne_inc1_p6\n",
      "count_wne_inc2_p6\n",
      "count_wne_inc3_p6\n",
      "count_wne_indep0_inc1_p6\n",
      "count_wne_indep0_p6\n",
      "count_wne_indep1_p6\n",
      "count_wne_male0_p6\n",
      "count_wne_male1_p6\n",
      "count_wne_p6\n",
      "count_wne_p7\n",
      "count_wne_p8\n",
      "count_wne_p9\n",
      "gt_25k_p6\n",
      "gt_25k_p7\n",
      "gt_25k_p8\n",
      "gt_25k_p9\n",
      "md_earn_wne_p6\n",
      "md_earn_wne_p8\n",
      "mn_earn_wne_inc1_p6\n",
      "mn_earn_wne_inc2_p6\n",
      "mn_earn_wne_inc3_p6\n",
      "mn_earn_wne_indep0_inc1_p6\n",
      "mn_earn_wne_indep0_p6\n",
      "mn_earn_wne_indep1_p6\n",
      "mn_earn_wne_male0_p6\n",
      "mn_earn_wne_male1_p6\n",
      "mn_earn_wne_p6\n",
      "mn_earn_wne_p7\n",
      "mn_earn_wne_p8\n",
      "mn_earn_wne_p9\n",
      "pct10_earn_wne_p6\n",
      "pct10_earn_wne_p8\n",
      "pct25_earn_wne_p6\n",
      "pct25_earn_wne_p8\n",
      "pct75_earn_wne_p6\n",
      "pct75_earn_wne_p8\n",
      "pct90_earn_wne_p6\n",
      "pct90_earn_wne_p8\n",
      "sd_earn_wne_p6\n",
      "sd_earn_wne_p7\n",
      "sd_earn_wne_p8\n",
      "sd_earn_wne_p9\n"
     ]
    }
   ],
   "source": [
    "x = [re.search(r'p\\d$', col) for col in df.columns]\n",
    "x = [m.string for m in x if m]\n",
    "x.sort()\n",
    "print len(x)\n",
    "for m in x:\n",
    "    print m"
   ]
  }
 ],
 "metadata": {
  "kernelspec": {
   "display_name": "Python 2",
   "language": "python",
   "name": "python2"
  },
  "language_info": {
   "codemirror_mode": {
    "name": "ipython",
    "version": 2
   },
   "file_extension": ".py",
   "mimetype": "text/x-python",
   "name": "python",
   "nbconvert_exporter": "python",
   "pygments_lexer": "ipython2",
   "version": "2.7.11"
  }
 },
 "nbformat": 4,
 "nbformat_minor": 0
}
