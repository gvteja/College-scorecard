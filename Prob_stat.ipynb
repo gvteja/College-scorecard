{
 "cells": [
  {
   "cell_type": "code",
   "execution_count": 2,
   "metadata": {
    "collapsed": false
   },
   "outputs": [
    {
     "name": "stdout",
     "output_type": "stream",
     "text": [
      "total rows with na\t7675\n",
      "Total rows:  0\n",
      "1496\n"
     ]
    }
   ],
   "source": [
    "%matplotlib inline\n",
    "\n",
    "import pandas as pd\n",
    "import numpy as np\n",
    "import matplotlib.pyplot as plt\n",
    "from sklearn import preprocessing\n",
    "\n",
    "\n",
    "df = pd.read_csv('./MERGED2011_PP.csv', low_memory=False)\n",
    "\n",
    "\n",
    "print \"total rows with na\\t\", len(df)\n",
    "\n",
    "df2 = df.iloc[0:len(df)].dropna()\n",
    "\n",
    "print \"Total rows: \", len(df2)\n",
    "\n",
    "\n",
    "df2 =   df.isnull().sum()\n",
    "total_len = len(df)\n",
    "\n",
    "for idx, val in df2.iteritems():\n",
    "    if val != 0 and float(val)/float(total_len) > 0.5: \n",
    "        df_norm = df.drop(str(idx), axis=1)\n",
    "        df = df_norm\n",
    "        #print idx, val\n",
    "\n",
    "    \n",
    "print len(df_norm.columns)\n",
    "\n",
    "\n",
    "\n"
   ]
  },
  {
   "cell_type": "code",
   "execution_count": 5,
   "metadata": {
    "collapsed": false
   },
   "outputs": [],
   "source": [
    "selected_cols=[]\n",
    "removed_cols=[]\n",
    "for col in df_norm.columns:\n",
    "    total_len=df_norm.shape[0]\n",
    "    if df_norm[col].dtype == 'int64' or df_norm[col].dtype == 'float64':\n",
    "        selected_cols.append(col)\n",
    "        continue\n",
    "    ps_len=df_norm.loc[df_norm[col]=='PrivacySuppressed'].shape[0]\n",
    "    if ps_len<total_len/2.0:\n",
    "        selected_cols.append(col)\n",
    "    else:\n",
    "        removed_cols.append(col)"
   ]
  },
  {
   "cell_type": "code",
   "execution_count": 6,
   "metadata": {
    "collapsed": false
   },
   "outputs": [
    {
     "data": {
      "text/plain": [
       "1070"
      ]
     },
     "execution_count": 6,
     "metadata": {},
     "output_type": "execute_result"
    }
   ],
   "source": [
    "len(selected_cols)"
   ]
  },
  {
   "cell_type": "code",
   "execution_count": 7,
   "metadata": {
    "collapsed": false
   },
   "outputs": [
    {
     "data": {
      "text/plain": [
       "426"
      ]
     },
     "execution_count": 7,
     "metadata": {},
     "output_type": "execute_result"
    }
   ],
   "source": [
    "len(removed_cols)"
   ]
  },
  {
   "cell_type": "code",
   "execution_count": 8,
   "metadata": {
    "collapsed": false
   },
   "outputs": [
    {
     "data": {
      "text/plain": [
       "﻿UNITID                          int64\n",
       "OPEID                            int64\n",
       "opeid6                           int64\n",
       "INSTNM                          object\n",
       "CITY                            object\n",
       "STABBR                          object\n",
       "ZIP                             object\n",
       "sch_deg                        float64\n",
       "HCM2                             int64\n",
       "main                             int64\n",
       "NUMBRANCH                        int64\n",
       "PREDDEG                          int64\n",
       "HIGHDEG                          int64\n",
       "CONTROL                          int64\n",
       "st_fips                        float64\n",
       "region                         float64\n",
       "PCIP01                         float64\n",
       "PCIP03                         float64\n",
       "PCIP04                         float64\n",
       "PCIP05                         float64\n",
       "PCIP09                         float64\n",
       "PCIP10                         float64\n",
       "PCIP11                         float64\n",
       "PCIP12                         float64\n",
       "PCIP13                         float64\n",
       "PCIP14                         float64\n",
       "PCIP15                         float64\n",
       "PCIP16                         float64\n",
       "PCIP19                         float64\n",
       "PCIP22                         float64\n",
       "                                ...   \n",
       "mn_earn_wne_indep1_p6           object\n",
       "mn_earn_wne_male0_p6            object\n",
       "mn_earn_wne_male1_p6            object\n",
       "count_nwne_p8                   object\n",
       "count_wne_p8                    object\n",
       "mn_earn_wne_p8                  object\n",
       "md_earn_wne_p8                  object\n",
       "pct10_earn_wne_p8               object\n",
       "pct25_earn_wne_p8               object\n",
       "pct75_earn_wne_p8               object\n",
       "pct90_earn_wne_p8               object\n",
       "sd_earn_wne_p8                  object\n",
       "gt_25k_p8                       object\n",
       "DEBT_MDN_SUPP                   object\n",
       "GRAD_DEBT_MDN_SUPP              object\n",
       "GRAD_DEBT_MDN10YR_SUPP          object\n",
       "RPY_3YR_RT_SUPP                 object\n",
       "LO_INC_RPY_3YR_RT_SUPP          object\n",
       "MD_INC_RPY_3YR_RT_SUPP          object\n",
       "HI_INC_RPY_3YR_RT_SUPP          object\n",
       "COMPL_RPY_3YR_RT_SUPP           object\n",
       "NONCOM_RPY_3YR_RT_SUPP          object\n",
       "DEP_RPY_3YR_RT_SUPP             object\n",
       "IND_RPY_3YR_RT_SUPP             object\n",
       "PELL_RPY_3YR_RT_SUPP            object\n",
       "NOPELL_RPY_3YR_RT_SUPP          object\n",
       "FEMALE_RPY_3YR_RT_SUPP          object\n",
       "MALE_RPY_3YR_RT_SUPP            object\n",
       "FIRSTGEN_RPY_3YR_RT_SUPP        object\n",
       "NOTFIRSTGEN_RPY_3YR_RT_SUPP     object\n",
       "dtype: object"
      ]
     },
     "execution_count": 8,
     "metadata": {},
     "output_type": "execute_result"
    }
   ],
   "source": [
    "df_norm.dtypes"
   ]
  },
  {
   "cell_type": "code",
   "execution_count": null,
   "metadata": {
    "collapsed": true
   },
   "outputs": [],
   "source": []
  }
 ],
 "metadata": {
  "kernelspec": {
   "display_name": "Python 2",
   "language": "python",
   "name": "python2"
  },
  "language_info": {
   "codemirror_mode": {
    "name": "ipython",
    "version": 2
   },
   "file_extension": ".py",
   "mimetype": "text/x-python",
   "name": "python",
   "nbconvert_exporter": "python",
   "pygments_lexer": "ipython2",
   "version": "2.7.10"
  }
 },
 "nbformat": 4,
 "nbformat_minor": 0
}
