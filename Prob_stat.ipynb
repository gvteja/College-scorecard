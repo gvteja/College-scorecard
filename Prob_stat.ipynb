{
 "cells": [
  {
   "cell_type": "code",
   "execution_count": 2,
   "metadata": {
    "collapsed": false
   },
   "outputs": [
    {
     "name": "stdout",
     "output_type": "stream",
     "text": [
      "total rows with na\t7675\n",
      "Total rows:  0\n",
      "1496\n"
     ]
    }
   ],
   "source": [
    "%matplotlib inline\n",
    "\n",
    "import pandas as pd\n",
    "import numpy as np\n",
    "import matplotlib.pyplot as plt\n",
    "from sklearn import preprocessing\n",
    "\n",
    "\n",
    "df = pd.read_csv('./MERGED2011_PP.csv', low_memory=False)\n",
    "\n",
    "\n",
    "print \"total rows with na\\t\", len(df)\n",
    "\n",
    "df2 = df.iloc[0:len(df)].dropna()\n",
    "\n",
    "print \"Total rows: \", len(df2)\n",
    "\n",
    "\n",
    "df2 =   df.isnull().sum()\n",
    "total_len = len(df)\n",
    "\n",
    "for idx, val in df2.iteritems():\n",
    "    if val != 0 and float(val)/float(total_len) > 0.5: \n",
    "        df_norm = df.drop(str(idx), axis=1)\n",
    "        df = df_norm\n",
    "        #print idx, val\n",
    "\n",
    "    \n",
    "print len(df_norm.columns)\n",
    "\n",
    "\n",
    "\n"
   ]
  },
  {
   "cell_type": "code",
   "execution_count": null,
   "metadata": {
    "collapsed": true
   },
   "outputs": [],
   "source": []
  },
  {
   "cell_type": "code",
   "execution_count": null,
   "metadata": {
    "collapsed": true
   },
   "outputs": [],
   "source": []
  },
  {
   "cell_type": "code",
   "execution_count": null,
   "metadata": {
    "collapsed": true
   },
   "outputs": [],
   "source": []
  }
 ],
 "metadata": {
  "kernelspec": {
   "display_name": "Python 2",
   "language": "python",
   "name": "python2"
  },
  "language_info": {
   "codemirror_mode": {
    "name": "ipython",
    "version": 2
   },
   "file_extension": ".py",
   "mimetype": "text/x-python",
   "name": "python",
   "nbconvert_exporter": "python",
   "pygments_lexer": "ipython2",
   "version": "2.7.10"
  }
 },
 "nbformat": 4,
 "nbformat_minor": 0
}
